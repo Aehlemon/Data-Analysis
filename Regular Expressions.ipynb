{
 "cells": [
  {
   "cell_type": "markdown",
   "id": "5bfff630",
   "metadata": {},
   "source": [
    "## 🛠️ 정규 표현식 뽀개기\n",
    "\n",
    "- 정규 표현식(Regular Expressions): 정규식이라고도 하며, 복잡한 문자열을 처리할 때 사용하는 기법\n",
    " - 파이썬에만 사용되는 고유 문법이 아님, 특정 규칙이 있는 문자열 집합을 추출할때 자주 사용됨<br>\n",
    "\n",
    "#### \"메타문자\"\n",
    "-> `. ^ $ * + ? { } [ ] \\ | ( )`와 같이 원래 의미가 아니라 다른 의미로 쓰이는 문자"
   ]
  },
  {
   "cell_type": "markdown",
   "id": "d0d2446a",
   "metadata": {},
   "source": [
    "#### 1. [ ]: [ 와 ] 사이 문자와 매칭 (or 의미)\n",
    "- ex. [abc]이면 어떤 텍스트에 a 또는 c 텍스트가 있는지 찾아라\n",
    "- [a-zA-Z] : **알파벳 모두**\n",
    "- [0-9]: 숫자"
   ]
  },
  {
   "cell_type": "markdown",
   "id": "d3a40539",
   "metadata": {},
   "source": [
    "#### 2. `.` (점): \\n을 제외한 모든 문자와 매치됨\n",
    "- ex. `a.b`: 'a +모든 문자 + b'\n",
    " - aab, abb, acb, aub 다 매칭\n",
    "- cf.중괄호 사이에 (.)이 있으면 문자 그대로 . 마침표를 의미"
   ]
  },
  {
   "cell_type": "markdown",
   "id": "056ca266",
   "metadata": {},
   "source": [
    "#### 3. 반복(*)\n",
    "- 바로 앞에 있는 문자가 0부터 약 2억개까지 반복될 수 있음\n",
    "- ex. ba*t, bat, baat, baaat 모두 매치\n",
    "- **{m, n}** 있으면 고정횟수 정할 수 있음 (m이상 n이하)\n",
    " - ba{2}t = baat 무조건 2번 반복\n",
    " - ba{2,}t = 2번 이상 ~ \n",
    " - ba{,2}t = 2번 이하\n",
    " - ba{1,4}t = 1~4번 반복"
   ]
  },
  {
   "cell_type": "markdown",
   "id": "bf9d5567",
   "metadata": {},
   "source": [
    "#### 4. + (1개 이상 출현), ? (or 같이 있어도 되고 없어도 됨)\n",
    "- 핸드폰 번호 표기: [0-9]+-[0-9]+-[0-9] => 개수 고정하면, [0-9]{3}-[0-9]{3,4}-[0-9]\n",
    "- ab?c: abc 또는 ab 둘다 가능"
   ]
  },
  {
   "cell_type": "markdown",
   "id": "b6c01d8f",
   "metadata": {},
   "source": [
    "#### 5. `^`: 시작, `$`:끝\n",
    "- ^python: 문자열 시작 항상 python으로 시작\n",
    "- python$: 마지막은 항상 python 단어로 끝\n",
    "\n",
    "---"
   ]
  },
  {
   "cell_type": "markdown",
   "id": "5b17afec",
   "metadata": {},
   "source": [
    "### 자주 사용하는 문자 클래스!\n",
    "\n",
    "- \\d - 숫자와 매치, [0-9]와 동일한 표현식이다.\n",
    "- \\D - 숫자가 아닌 것과 매치, [^0-9]와 동일한 표현식이다.\n",
    "- \\s - whitespace 문자와 매치, [ \\t\\n\\r\\f\\v]와 동일한 표현식이다. 맨 앞의 빈 칸은 공백문자(space)를 의미한다.\n",
    "- \\S - whitespace 문자가 아닌 것과 매치, [^ \\t\\n\\r\\f\\v]와 동일한 표현식이다.\n",
    "- \\w - 문자+숫자(alphanumeric)와 매치, [a-zA-Z0-9_]와 동일한 표현식이다.\n",
    "- \\W - 문자+숫자(alphanumeric)가 아닌 문자와 매치, [^a-zA-Z0-9_]와 동일한 표현식이다."
   ]
  },
  {
   "cell_type": "markdown",
   "id": "c8ad9af3",
   "metadata": {},
   "source": [
    "### 정규식을 이용한 문자열 검색\n",
    "\n",
    "1) match(): 문자열의 처음부터 정규식과 매치되는지 조사 / 매치 안되면 None <br>\n",
    " - `group()`: 매치된 문자열 반환\n",
    " - `start()`, `end()`: 시작위치, 끝 위치 int로 반환\n",
    " - `span()`:  문자열 (시작, 끝)에 해당하는 튜플 반환\n",
    " \n",
    "2) search(): 문자열 전체를 검색해 정규식과 매치되는지 조사 / 매치 안되면 None <br>\n",
    "3) findall():정규식과 매치되는 모든 문자열(substring)을 `리스트`로 돌려줌 <br>\n",
    "4) finditer(): 정규식과 매치되는 모든 문자열(substring)을 반복 가능한 객체로 돌려줌"
   ]
  },
  {
   "cell_type": "code",
   "execution_count": 2,
   "id": "58ab1169",
   "metadata": {},
   "outputs": [
    {
     "name": "stdout",
     "output_type": "stream",
     "text": [
      "<re.Match object; span=(0, 6), match='python'>\n"
     ]
    }
   ],
   "source": [
    "import re\n",
    "\n",
    "p = re.compile('[a-z]+')\n",
    "\n",
    "m = p.match(\"python\")\n",
    "print(m)"
   ]
  },
  {
   "cell_type": "code",
   "execution_count": 3,
   "id": "dc1cd587",
   "metadata": {},
   "outputs": [
    {
     "name": "stdout",
     "output_type": "stream",
     "text": [
      "None\n"
     ]
    }
   ],
   "source": [
    "# 대문자로 하면 처음부터 일치하지 않아서  None\n",
    "\n",
    "m = p.match(\"Python\")\n",
    "print(m)"
   ]
  },
  {
   "cell_type": "code",
   "execution_count": 35,
   "id": "fb95d33d",
   "metadata": {},
   "outputs": [
    {
     "name": "stdout",
     "output_type": "stream",
     "text": [
      "No Match\n"
     ]
    }
   ],
   "source": [
    "# 조건을 걸어 많이 사용함\n",
    "\n",
    "p = re.compile('[a-zA_Z]+')\n",
    "m = p.match('Everday we are trying our best!')\n",
    "if m:\n",
    "    print('Match Found', m.group()) # 그룹함수 -매치된 문자열을 반환\n",
    "else:\n",
    "    print('No Match')"
   ]
  },
  {
   "cell_type": "code",
   "execution_count": 36,
   "id": "4d22d61f",
   "metadata": {},
   "outputs": [
    {
     "name": "stdout",
     "output_type": "stream",
     "text": [
      "<re.Match object; span=(0, 6), match='python'>\n"
     ]
    }
   ],
   "source": [
    "m = p.search(\"python10\")\n",
    "print(m)"
   ]
  },
  {
   "cell_type": "code",
   "execution_count": 42,
   "id": "acb2b8aa",
   "metadata": {},
   "outputs": [
    {
     "name": "stdout",
     "output_type": "stream",
     "text": [
      "['you', 'are', 'so', 'lovely', 'and', 'smart', '2']\n"
     ]
    }
   ],
   "source": [
    "p = re.compile('[\\w]+')  #문자와 숫자 모두\n",
    "result = p.findall(\"you are so lovely and smart 2\")\n",
    "print(result)"
   ]
  },
  {
   "cell_type": "code",
   "execution_count": 44,
   "id": "be5b4aa0",
   "metadata": {},
   "outputs": [
    {
     "name": "stdout",
     "output_type": "stream",
     "text": [
      "<callable_iterator object at 0x000002052C0E85E0>\n",
      "0 <re.Match object; span=(0, 5), match='Happy'>\n",
      "Happy\n",
      "(0, 5)\n",
      "1 <re.Match object; span=(6, 10), match='Life'>\n",
      "Life\n",
      "(6, 10)\n",
      "2 <re.Match object; span=(11, 15), match='with'>\n",
      "with\n",
      "(11, 15)\n",
      "3 <re.Match object; span=(16, 25), match='beautiful'>\n",
      "beautiful\n",
      "(16, 25)\n",
      "4 <re.Match object; span=(26, 31), match='house'>\n",
      "house\n",
      "(26, 31)\n",
      "5 <re.Match object; span=(32, 35), match='and'>\n",
      "and\n",
      "(32, 35)\n",
      "6 <re.Match object; span=(36, 42), match='nature'>\n",
      "nature\n",
      "(36, 42)\n",
      "7 <re.Match object; span=(44, 46), match='99'>\n",
      "99\n",
      "(44, 46)\n"
     ]
    }
   ],
   "source": [
    "result = p.finditer(\"Happy Life with beautiful house and nature, 99\")\n",
    "print(result)\n",
    "\n",
    "for i, r in enumerate(result):\n",
    "    print(i, r)\n",
    "    print(r.group())\n",
    "    print(r.span())"
   ]
  },
  {
   "cell_type": "markdown",
   "id": "e34391bb",
   "metadata": {},
   "source": [
    "### 정규식 컴파일 옵션\n",
    "- DOTALL(S) - . 이 줄바꿈 문자(`\\n`)를 포함하여 모든 문자와 매치할 수 있도록 한다.\n",
    "- IGNORECASE(I) - **대소문자에 관계없이** 매치할 수 있도록 한다.\n",
    "- MULTILINE(M) - 여러줄과 매치할 수 있도록 한다. \n",
    " - (^, $ 메타문자의 사- 용과 관계가 있는 옵션이다)\n",
    "- VERBOSE(X) - verbose 모드를 사용할 수 있도록 한다. (정규식을 보기 편하게 만들수 있고 주석등을 사용할 수 있게된다.)\n",
    "- 약어로 사용하고 싶을 때, `re.(S), re(I), re(M)` 등으로 표기"
   ]
  },
  {
   "cell_type": "code",
   "execution_count": 2,
   "id": "ec184937",
   "metadata": {},
   "outputs": [
    {
     "name": "stdout",
     "output_type": "stream",
     "text": [
      "None\n"
     ]
    }
   ],
   "source": [
    "import re\n",
    "\n",
    "p = re.compile('a.b')\n",
    "m = p.match('a\\nb')\n",
    "print(m)\n",
    "\n",
    "# 온점과 줄바꿈 문자가 매치되지 않아서 None 반환"
   ]
  },
  {
   "cell_type": "code",
   "execution_count": 3,
   "id": "d53abebd",
   "metadata": {},
   "outputs": [
    {
     "name": "stdout",
     "output_type": "stream",
     "text": [
      "<re.Match object; span=(0, 3), match='a\\nb'>\n"
     ]
    }
   ],
   "source": [
    "p = re.compile('a.b', re.DOTALL)\n",
    "m = p.match('a\\nb')\n",
    "print(m)"
   ]
  },
  {
   "cell_type": "markdown",
   "id": "bc5f4fb4",
   "metadata": {},
   "source": [
    "- re.DOTALL은 보통 여러 줄로 이뤄진 문자열에서 \\n에 상관없이 검색할때 많이 사용"
   ]
  },
  {
   "cell_type": "code",
   "execution_count": 4,
   "id": "e8ef42ce",
   "metadata": {},
   "outputs": [
    {
     "data": {
      "text/plain": [
       "<re.Match object; span=(0, 9), match='afterlike'>"
      ]
     },
     "execution_count": 4,
     "metadata": {},
     "output_type": "execute_result"
    }
   ],
   "source": [
    "p = re.compile('[a-z]+', re.I)\n",
    "p.match('afterlike')"
   ]
  },
  {
   "cell_type": "code",
   "execution_count": 5,
   "id": "e1031a44",
   "metadata": {},
   "outputs": [
    {
     "data": {
      "text/plain": [
       "<re.Match object; span=(0, 9), match='Fantastic'>"
      ]
     },
     "execution_count": 5,
     "metadata": {},
     "output_type": "execute_result"
    }
   ],
   "source": [
    "p.match('Fantastic Moment')"
   ]
  },
  {
   "cell_type": "markdown",
   "id": "881cf16e",
   "metadata": {},
   "source": [
    "- Multiline (M): line 별로 적용  \n",
    " - `^` 메타 문자가 문자열 전체가 아닌 각 줄의 처음\n",
    " - `$` 메타 문자가 문자열 전체가 아닌 각 줄의 처음"
   ]
  },
  {
   "cell_type": "code",
   "execution_count": 14,
   "id": "6614c624",
   "metadata": {},
   "outputs": [
    {
     "name": "stdout",
     "output_type": "stream",
     "text": [
      "['python ten']\n"
     ]
    }
   ],
   "source": [
    "import re\n",
    "p = re.compile(\"^python\\s\\w+\", re.MULTILINE)\n",
    "\n",
    "data = \"\"\"python ten\n",
    "This is a daily learning record\n",
    "which is written by autonomous author.\n",
    "Python is object-oriented programming lanuguage\n",
    "\"\"\"\n",
    "\n",
    "print(p.findall(data))"
   ]
  },
  {
   "cell_type": "code",
   "execution_count": 11,
   "id": "e7bde533",
   "metadata": {},
   "outputs": [
    {
     "name": "stdout",
     "output_type": "stream",
     "text": [
      "['python one', 'python two', 'python three']\n"
     ]
    }
   ],
   "source": [
    "import re\n",
    "p = re.compile(\"^python\\s\\w+\", re.MULTILINE)\n",
    "\n",
    "data = \"\"\"python one\n",
    "life is too short\n",
    "python two\n",
    "you need python\n",
    "python three\"\"\"\n",
    "\n",
    "print(p.findall(data))"
   ]
  }
 ],
 "metadata": {
  "kernelspec": {
   "display_name": "Python 3 (ipykernel)",
   "language": "python",
   "name": "python3"
  },
  "language_info": {
   "codemirror_mode": {
    "name": "ipython",
    "version": 3
   },
   "file_extension": ".py",
   "mimetype": "text/x-python",
   "name": "python",
   "nbconvert_exporter": "python",
   "pygments_lexer": "ipython3",
   "version": "3.9.12"
  }
 },
 "nbformat": 4,
 "nbformat_minor": 5
}
