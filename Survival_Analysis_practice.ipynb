{
 "cells": [
  {
   "cell_type": "code",
   "execution_count": 1,
   "id": "96c9aa7b",
   "metadata": {},
   "outputs": [
    {
     "name": "stdout",
     "output_type": "stream",
     "text": [
      "Requirement already satisfied: lifelines in c:\\users\\silan\\anaconda3\\lib\\site-packages (0.27.0)\n",
      "Requirement already satisfied: numpy>=1.14.0 in c:\\users\\silan\\anaconda3\\lib\\site-packages (from lifelines) (1.20.3)\n",
      "Requirement already satisfied: autograd>=1.3 in c:\\users\\silan\\anaconda3\\lib\\site-packages (from lifelines) (1.4)\n",
      "Requirement already satisfied: autograd-gamma>=0.3 in c:\\users\\silan\\anaconda3\\lib\\site-packages (from lifelines) (0.5.0)\n",
      "Requirement already satisfied: matplotlib>=3.0 in c:\\users\\silan\\anaconda3\\lib\\site-packages (from lifelines) (3.4.3)\n",
      "Requirement already satisfied: scipy>=1.2.0 in c:\\users\\silan\\anaconda3\\lib\\site-packages (from lifelines) (1.7.1)\n",
      "Requirement already satisfied: pandas>=1.0.0 in c:\\users\\silan\\anaconda3\\lib\\site-packages (from lifelines) (1.3.4)\n",
      "Requirement already satisfied: formulaic>=0.2.2 in c:\\users\\silan\\anaconda3\\lib\\site-packages (from lifelines) (0.3.3)\n",
      "Requirement already satisfied: future>=0.15.2 in c:\\users\\silan\\anaconda3\\lib\\site-packages (from autograd>=1.3->lifelines) (0.18.2)\n",
      "Requirement already satisfied: wrapt>=1.0 in c:\\users\\silan\\anaconda3\\lib\\site-packages (from formulaic>=0.2.2->lifelines) (1.12.1)\n",
      "Requirement already satisfied: interface-meta<2.0.0,>=1.2.0 in c:\\users\\silan\\anaconda3\\lib\\site-packages (from formulaic>=0.2.2->lifelines) (1.3.0)\n",
      "Requirement already satisfied: astor<0.8.0,>=0.7.0 in c:\\users\\silan\\anaconda3\\lib\\site-packages (from formulaic>=0.2.2->lifelines) (0.7.1)\n",
      "Requirement already satisfied: python-dateutil>=2.7 in c:\\users\\silan\\anaconda3\\lib\\site-packages (from matplotlib>=3.0->lifelines) (2.8.2)\n",
      "Requirement already satisfied: cycler>=0.10 in c:\\users\\silan\\anaconda3\\lib\\site-packages (from matplotlib>=3.0->lifelines) (0.10.0)\n",
      "Requirement already satisfied: pyparsing>=2.2.1 in c:\\users\\silan\\anaconda3\\lib\\site-packages (from matplotlib>=3.0->lifelines) (3.0.4)\n",
      "Requirement already satisfied: kiwisolver>=1.0.1 in c:\\users\\silan\\anaconda3\\lib\\site-packages (from matplotlib>=3.0->lifelines) (1.3.1)\n",
      "Requirement already satisfied: pillow>=6.2.0 in c:\\users\\silan\\anaconda3\\lib\\site-packages (from matplotlib>=3.0->lifelines) (8.4.0)\n",
      "Requirement already satisfied: six in c:\\users\\silan\\anaconda3\\lib\\site-packages (from cycler>=0.10->matplotlib>=3.0->lifelines) (1.16.0)\n",
      "Requirement already satisfied: pytz>=2017.3 in c:\\users\\silan\\anaconda3\\lib\\site-packages (from pandas>=1.0.0->lifelines) (2021.3)\n"
     ]
    }
   ],
   "source": [
    "#!pip install lifelines # Survival 통계분석 패키지 lifelines 설치"
   ]
  },
  {
   "cell_type": "code",
   "execution_count": 4,
   "id": "d04a4bd5",
   "metadata": {},
   "outputs": [],
   "source": [
    "from lifelines import KaplanMeierFitter\n",
    "from lifelines.statistics import logrank_test\n",
    "import pandas as pd\n",
    "\n",
    "data = pd.DataFrame({\n",
    "    'time': [7, 5, 3, 50, 38, 17, 7, 2, 4, 6, 8, 10, 14, 18, 22, 28, 40], # 게임에 가입한 기간\n",
    "    'treatment' : [1,1,1, 2, 2, 2, 1, 1, 1, 1, 2, 1, 2, 1, 2, 2, 2], # 신규가입 보너스 지급\n",
    "    'event' : [True, False, True, False, False, False, True, True, False, True, True, True, True, False, True, True, False] # 결제 유무]\n",
    "})"
   ]
  },
  {
   "cell_type": "code",
   "execution_count": 5,
   "id": "0a5ff966",
   "metadata": {},
   "outputs": [
    {
     "data": {
      "text/html": [
       "<div>\n",
       "<style scoped>\n",
       "    .dataframe tbody tr th:only-of-type {\n",
       "        vertical-align: middle;\n",
       "    }\n",
       "\n",
       "    .dataframe tbody tr th {\n",
       "        vertical-align: top;\n",
       "    }\n",
       "\n",
       "    .dataframe thead th {\n",
       "        text-align: right;\n",
       "    }\n",
       "</style>\n",
       "<table border=\"1\" class=\"dataframe\">\n",
       "  <thead>\n",
       "    <tr style=\"text-align: right;\">\n",
       "      <th></th>\n",
       "      <th>time</th>\n",
       "      <th>treatment</th>\n",
       "      <th>event</th>\n",
       "    </tr>\n",
       "  </thead>\n",
       "  <tbody>\n",
       "    <tr>\n",
       "      <th>0</th>\n",
       "      <td>7</td>\n",
       "      <td>1</td>\n",
       "      <td>True</td>\n",
       "    </tr>\n",
       "    <tr>\n",
       "      <th>1</th>\n",
       "      <td>5</td>\n",
       "      <td>1</td>\n",
       "      <td>False</td>\n",
       "    </tr>\n",
       "    <tr>\n",
       "      <th>2</th>\n",
       "      <td>3</td>\n",
       "      <td>1</td>\n",
       "      <td>True</td>\n",
       "    </tr>\n",
       "    <tr>\n",
       "      <th>3</th>\n",
       "      <td>50</td>\n",
       "      <td>2</td>\n",
       "      <td>False</td>\n",
       "    </tr>\n",
       "    <tr>\n",
       "      <th>4</th>\n",
       "      <td>38</td>\n",
       "      <td>2</td>\n",
       "      <td>False</td>\n",
       "    </tr>\n",
       "    <tr>\n",
       "      <th>5</th>\n",
       "      <td>17</td>\n",
       "      <td>2</td>\n",
       "      <td>False</td>\n",
       "    </tr>\n",
       "    <tr>\n",
       "      <th>6</th>\n",
       "      <td>7</td>\n",
       "      <td>1</td>\n",
       "      <td>True</td>\n",
       "    </tr>\n",
       "    <tr>\n",
       "      <th>7</th>\n",
       "      <td>2</td>\n",
       "      <td>1</td>\n",
       "      <td>True</td>\n",
       "    </tr>\n",
       "    <tr>\n",
       "      <th>8</th>\n",
       "      <td>4</td>\n",
       "      <td>1</td>\n",
       "      <td>False</td>\n",
       "    </tr>\n",
       "    <tr>\n",
       "      <th>9</th>\n",
       "      <td>6</td>\n",
       "      <td>1</td>\n",
       "      <td>True</td>\n",
       "    </tr>\n",
       "    <tr>\n",
       "      <th>10</th>\n",
       "      <td>8</td>\n",
       "      <td>2</td>\n",
       "      <td>True</td>\n",
       "    </tr>\n",
       "    <tr>\n",
       "      <th>11</th>\n",
       "      <td>10</td>\n",
       "      <td>1</td>\n",
       "      <td>True</td>\n",
       "    </tr>\n",
       "    <tr>\n",
       "      <th>12</th>\n",
       "      <td>14</td>\n",
       "      <td>2</td>\n",
       "      <td>True</td>\n",
       "    </tr>\n",
       "    <tr>\n",
       "      <th>13</th>\n",
       "      <td>18</td>\n",
       "      <td>1</td>\n",
       "      <td>False</td>\n",
       "    </tr>\n",
       "    <tr>\n",
       "      <th>14</th>\n",
       "      <td>22</td>\n",
       "      <td>2</td>\n",
       "      <td>True</td>\n",
       "    </tr>\n",
       "    <tr>\n",
       "      <th>15</th>\n",
       "      <td>28</td>\n",
       "      <td>2</td>\n",
       "      <td>True</td>\n",
       "    </tr>\n",
       "    <tr>\n",
       "      <th>16</th>\n",
       "      <td>40</td>\n",
       "      <td>2</td>\n",
       "      <td>False</td>\n",
       "    </tr>\n",
       "  </tbody>\n",
       "</table>\n",
       "</div>"
      ],
      "text/plain": [
       "    time  treatment  event\n",
       "0      7          1   True\n",
       "1      5          1  False\n",
       "2      3          1   True\n",
       "3     50          2  False\n",
       "4     38          2  False\n",
       "5     17          2  False\n",
       "6      7          1   True\n",
       "7      2          1   True\n",
       "8      4          1  False\n",
       "9      6          1   True\n",
       "10     8          2   True\n",
       "11    10          1   True\n",
       "12    14          2   True\n",
       "13    18          1  False\n",
       "14    22          2   True\n",
       "15    28          2   True\n",
       "16    40          2  False"
      ]
     },
     "execution_count": 5,
     "metadata": {},
     "output_type": "execute_result"
    }
   ],
   "source": [
    "data"
   ]
  },
  {
   "attachments": {},
   "cell_type": "markdown",
   "id": "6fc9f8e3",
   "metadata": {},
   "source": [
    "## 0. Survival Analysis 개요\n",
    "- 생존분석의 목적은 실험군 Case와 대조군 Control 환자 사이에서 유의하게 차이를 보이는 ＇변수＇를 찾기 위함\n",
    "- 환자가 얼마나 오래 생존하며, Event의 발생 유무를 예측하기 위함\n",
    "- 생존 변수는 보통 두 변수의 묶음으로 구성; 변수의 성격의 따라 연속형/범주형 구분, 분석에 중요한 요인은 아님, 해석방법의 차이는 있다\n",
    " - 1. Event의 유무\t(사망, 재발, 게임머니 결제)\n",
    " - 2. Event발생 까지의 시간 (생존시간, 수술 후부터 재발까지, 게임 가입후 결제까지)\n"
   ]
  },
  {
   "attachments": {},
   "cell_type": "markdown",
   "id": "eb6d25ae",
   "metadata": {},
   "source": [
    "### 1. Survival data 시각화_KaplanMeierFitter() 활용\n",
    "- Event가 발생한 시점마다 생존율을 계산\n",
    "- 관찰 기간 순서대로 자료 정리 후 각 구간별로 관찰대상 수 중 생존자 수의 분율로 구간 생존율 및 누적 생존율을 계산\n",
    "- 'censored' 표시: 중도절단 -> plot_survival_function(show_censors=True)\n",
    " - 생존 분석에서 손실된 데이터를 처리하는 방법이다. \n",
    " - 이상적으로는 표본의 생일과 사망일을 통해 생존 기간을 파악하는 것이 좋지만, 그렇지 못한 경우에 중도절단을 사용한다."
   ]
  },
  {
   "cell_type": "code",
   "execution_count": 8,
   "id": "d8c8d693",
   "metadata": {},
   "outputs": [
    {
     "data": {
      "text/plain": [
       "<AxesSubplot:xlabel='time', ylabel='S(t)'>"
      ]
     },
     "execution_count": 8,
     "metadata": {},
     "output_type": "execute_result"
    },
    {
     "data": {
      "image/png": "[encoded data removed]",
      "text/plain": [
       "<Figure size 432x288 with 1 Axes>"
      ]
     },
     "metadata": {
      "needs_background": "light"
     },
     "output_type": "display_data"
    }
   ],
   "source": [
    "kmf = KaplanMeierFitter()\n",
    "kmf.fit(data['time'], data['event'])\n",
    "\n",
    "plot = kmf.plot_survival_function()\n",
    "plot.set_xlabel('time')\n",
    "plot.set_ylabel('S(t)')\n",
    "plot"
   ]
  },
  {
   "cell_type": "code",
   "execution_count": 9,
   "id": "8dfbc83a",
   "metadata": {},
   "outputs": [
    {
     "data": {
      "text/plain": [
       "<AxesSubplot:xlabel='time', ylabel='S(t)'>"
      ]
     },
     "execution_count": 9,
     "metadata": {},
     "output_type": "execute_result"
    },
    {
     "data": {
      "image/png": "[encoded data removed]",
      "text/plain": [
       "<Figure size 432x288 with 1 Axes>"
      ]
     },
     "metadata": {
      "needs_background": "light"
     },
     "output_type": "display_data"
    }
   ],
   "source": [
    "kmf = KaplanMeierFitter()\n",
    "kmf.fit(data['time'], data['event'])\n",
    "\n",
    "plot = kmf.plot_survival_function(show_censors = True)\n",
    "plot.set_xlabel('time')\n",
    "plot.set_ylabel('S(t)')\n",
    "plot"
   ]
  },
  {
   "cell_type": "code",
   "execution_count": 13,
   "id": "ac253bd5",
   "metadata": {},
   "outputs": [
    {
     "data": {
      "text/plain": [
       "<AxesSubplot:xlabel='Time(Months)', ylabel='Survival Rate'>"
      ]
     },
     "execution_count": 13,
     "metadata": {},
     "output_type": "execute_result"
    },
    {
     "data": {
      "image/png": "[encoded data removed]",
      "text/plain": [
       "<Figure size 432x288 with 1 Axes>"
      ]
     },
     "metadata": {
      "needs_background": "light"
     },
     "output_type": "display_data"
    }
   ],
   "source": [
    "# treat 1, 2를 모두 시각화 해보면,\n",
    "treat1 = data[data['treatment'] == 1]\n",
    "treat2 = data[data['treatment'] == 2]\n",
    "\n",
    "kmf = KaplanMeierFitter()\n",
    "kmf.fit(treat1['time'], treat1['event'], label = 'treat1')\n",
    "ax_kmf = kmf.plot(show_censors = True)\n",
    "kmf.fit(treat2['time'], treat2['event'], label = 'treat2')\n",
    "ax_kmf = kmf.plot(ax = ax_kmf, show_censors = True)\n",
    "\n",
    "ax_kmf.set_xlabel(\"Time(Months)\")\n",
    "ax_kmf.set_ylabel(\"Survival Rate\")\n",
    "ax_kmf"
   ]
  },
  {
   "cell_type": "markdown",
   "id": "710b908f",
   "metadata": {},
   "source": [
    "### 2. logrank_test: 두 집단의 생존율이 같은지 아닌지를 검정"
   ]
  },
  {
   "cell_type": "code",
   "execution_count": 16,
   "id": "c9710cd1",
   "metadata": {},
   "outputs": [],
   "source": [
    "logrank_t = logrank_test(treat1['time'], treat2['time'], treat1['event'], treat2['event'])"
   ]
  },
  {
   "cell_type": "code",
   "execution_count": 17,
   "id": "449aa402",
   "metadata": {},
   "outputs": [
    {
     "data": {
      "text/plain": [
       "0.007341895570690576"
      ]
     },
     "execution_count": 17,
     "metadata": {},
     "output_type": "execute_result"
    }
   ],
   "source": [
    "logrank_t.p_value"
   ]
  },
  {
   "cell_type": "code",
   "execution_count": 18,
   "id": "e37d515d",
   "metadata": {},
   "outputs": [
    {
     "data": {
      "text/html": [
       "<div>\n",
       "<style scoped>\n",
       "    .dataframe tbody tr th:only-of-type {\n",
       "        vertical-align: middle;\n",
       "    }\n",
       "\n",
       "    .dataframe tbody tr th {\n",
       "        vertical-align: top;\n",
       "    }\n",
       "\n",
       "    .dataframe thead th {\n",
       "        text-align: right;\n",
       "    }\n",
       "</style>\n",
       "<table border=\"1\" class=\"dataframe\">\n",
       "  <thead>\n",
       "    <tr style=\"text-align: right;\">\n",
       "      <th></th>\n",
       "      <th>test_statistic</th>\n",
       "      <th>p</th>\n",
       "      <th>-log2(p)</th>\n",
       "    </tr>\n",
       "  </thead>\n",
       "  <tbody>\n",
       "    <tr>\n",
       "      <th>0</th>\n",
       "      <td>7.187359</td>\n",
       "      <td>0.007342</td>\n",
       "      <td>7.089632</td>\n",
       "    </tr>\n",
       "  </tbody>\n",
       "</table>\n",
       "</div>"
      ],
      "text/plain": [
       "   test_statistic         p  -log2(p)\n",
       "0        7.187359  0.007342  7.089632"
      ]
     },
     "execution_count": 18,
     "metadata": {},
     "output_type": "execute_result"
    }
   ],
   "source": [
    "logrank_t.summary"
   ]
  },
  {
   "cell_type": "code",
   "execution_count": 22,
   "id": "f96ed44b",
   "metadata": {},
   "outputs": [],
   "source": [
    "# gender 변수 추가\n",
    "\n",
    "data = pd.DataFrame({\n",
    "    'time' : [7, 5, 3, 50, 38, 17, 7, 2, 4, 6, 8, 10, 14, 18, 22, 28, 40], # 게임에 가입한 기간\n",
    "    'treatment' : [1,1,1, 2, 2, 2, 1, 1, 1, 1, 2, 1, 2, 1, 2, 2, 2], # 신규가입 보너스 지급\n",
    "    'gender' : [1, 2, 1, 1, 2, 1, 2, 2, 1, 2, 1, 1, 2, 1, 2, 2, 1],\n",
    "    'event' : [True, False, True, False, False, False, True, True, False, True, True, True, True, False, True, True, False] # 결제 유무\n",
    "})"
   ]
  },
  {
   "cell_type": "code",
   "execution_count": 23,
   "id": "8c4fb532",
   "metadata": {},
   "outputs": [
    {
     "data": {
      "text/html": [
       "<div>\n",
       "<style scoped>\n",
       "    .dataframe tbody tr th:only-of-type {\n",
       "        vertical-align: middle;\n",
       "    }\n",
       "\n",
       "    .dataframe tbody tr th {\n",
       "        vertical-align: top;\n",
       "    }\n",
       "\n",
       "    .dataframe thead th {\n",
       "        text-align: right;\n",
       "    }\n",
       "</style>\n",
       "<table border=\"1\" class=\"dataframe\">\n",
       "  <thead>\n",
       "    <tr style=\"text-align: right;\">\n",
       "      <th></th>\n",
       "      <th>time</th>\n",
       "      <th>treatment</th>\n",
       "      <th>gender</th>\n",
       "      <th>event</th>\n",
       "    </tr>\n",
       "  </thead>\n",
       "  <tbody>\n",
       "    <tr>\n",
       "      <th>0</th>\n",
       "      <td>7</td>\n",
       "      <td>1</td>\n",
       "      <td>1</td>\n",
       "      <td>True</td>\n",
       "    </tr>\n",
       "    <tr>\n",
       "      <th>1</th>\n",
       "      <td>5</td>\n",
       "      <td>1</td>\n",
       "      <td>2</td>\n",
       "      <td>False</td>\n",
       "    </tr>\n",
       "    <tr>\n",
       "      <th>2</th>\n",
       "      <td>3</td>\n",
       "      <td>1</td>\n",
       "      <td>1</td>\n",
       "      <td>True</td>\n",
       "    </tr>\n",
       "    <tr>\n",
       "      <th>3</th>\n",
       "      <td>50</td>\n",
       "      <td>2</td>\n",
       "      <td>1</td>\n",
       "      <td>False</td>\n",
       "    </tr>\n",
       "    <tr>\n",
       "      <th>4</th>\n",
       "      <td>38</td>\n",
       "      <td>2</td>\n",
       "      <td>2</td>\n",
       "      <td>False</td>\n",
       "    </tr>\n",
       "    <tr>\n",
       "      <th>5</th>\n",
       "      <td>17</td>\n",
       "      <td>2</td>\n",
       "      <td>1</td>\n",
       "      <td>False</td>\n",
       "    </tr>\n",
       "    <tr>\n",
       "      <th>6</th>\n",
       "      <td>7</td>\n",
       "      <td>1</td>\n",
       "      <td>2</td>\n",
       "      <td>True</td>\n",
       "    </tr>\n",
       "    <tr>\n",
       "      <th>7</th>\n",
       "      <td>2</td>\n",
       "      <td>1</td>\n",
       "      <td>2</td>\n",
       "      <td>True</td>\n",
       "    </tr>\n",
       "    <tr>\n",
       "      <th>8</th>\n",
       "      <td>4</td>\n",
       "      <td>1</td>\n",
       "      <td>1</td>\n",
       "      <td>False</td>\n",
       "    </tr>\n",
       "    <tr>\n",
       "      <th>9</th>\n",
       "      <td>6</td>\n",
       "      <td>1</td>\n",
       "      <td>2</td>\n",
       "      <td>True</td>\n",
       "    </tr>\n",
       "    <tr>\n",
       "      <th>10</th>\n",
       "      <td>8</td>\n",
       "      <td>2</td>\n",
       "      <td>1</td>\n",
       "      <td>True</td>\n",
       "    </tr>\n",
       "    <tr>\n",
       "      <th>11</th>\n",
       "      <td>10</td>\n",
       "      <td>1</td>\n",
       "      <td>1</td>\n",
       "      <td>True</td>\n",
       "    </tr>\n",
       "    <tr>\n",
       "      <th>12</th>\n",
       "      <td>14</td>\n",
       "      <td>2</td>\n",
       "      <td>2</td>\n",
       "      <td>True</td>\n",
       "    </tr>\n",
       "    <tr>\n",
       "      <th>13</th>\n",
       "      <td>18</td>\n",
       "      <td>1</td>\n",
       "      <td>1</td>\n",
       "      <td>False</td>\n",
       "    </tr>\n",
       "    <tr>\n",
       "      <th>14</th>\n",
       "      <td>22</td>\n",
       "      <td>2</td>\n",
       "      <td>2</td>\n",
       "      <td>True</td>\n",
       "    </tr>\n",
       "    <tr>\n",
       "      <th>15</th>\n",
       "      <td>28</td>\n",
       "      <td>2</td>\n",
       "      <td>2</td>\n",
       "      <td>True</td>\n",
       "    </tr>\n",
       "    <tr>\n",
       "      <th>16</th>\n",
       "      <td>40</td>\n",
       "      <td>2</td>\n",
       "      <td>1</td>\n",
       "      <td>False</td>\n",
       "    </tr>\n",
       "  </tbody>\n",
       "</table>\n",
       "</div>"
      ],
      "text/plain": [
       "    time  treatment  gender  event\n",
       "0      7          1       1   True\n",
       "1      5          1       2  False\n",
       "2      3          1       1   True\n",
       "3     50          2       1  False\n",
       "4     38          2       2  False\n",
       "5     17          2       1  False\n",
       "6      7          1       2   True\n",
       "7      2          1       2   True\n",
       "8      4          1       1  False\n",
       "9      6          1       2   True\n",
       "10     8          2       1   True\n",
       "11    10          1       1   True\n",
       "12    14          2       2   True\n",
       "13    18          1       1  False\n",
       "14    22          2       2   True\n",
       "15    28          2       2   True\n",
       "16    40          2       1  False"
      ]
     },
     "execution_count": 23,
     "metadata": {},
     "output_type": "execute_result"
    }
   ],
   "source": [
    "data"
   ]
  },
  {
   "cell_type": "code",
   "execution_count": 27,
   "id": "de4af20b",
   "metadata": {},
   "outputs": [
    {
     "data": {
      "text/plain": [
       "<AxesSubplot:xlabel='Time(Months)', ylabel='Survival Rate'>"
      ]
     },
     "execution_count": 27,
     "metadata": {},
     "output_type": "execute_result"
    },
    {
     "data": {
      "image/png": "[encoded data removed]",
      "text/plain": [
       "<Figure size 432x288 with 1 Axes>"
      ]
     },
     "metadata": {
      "needs_background": "light"
     },
     "output_type": "display_data"
    }
   ],
   "source": [
    "treat1 = data[data['treatment']==1]\n",
    "treat2 = data[data['treatment']==2]\n",
    "\n",
    "gender1 = data[data['gender']==1]\n",
    "gender2 = data[data['gender']==2]\n",
    "\n",
    "kmf = KaplanMeierFitter()\n",
    "kmf.fit(treat1['time'], treat1['event'], label = 'treat1')\n",
    "ax_kmf = kmf.plot(show_censors= True)\n",
    "kmf.fit(treat2['time'], treat2['event'], label = 'treat2')\n",
    "ax_kmf1 = kmf.plot(ax = ax_kmf, show_censors = True)\n",
    "\n",
    "ax_kmf.set_xlabel(\"Time(Months)\")\n",
    "ax_kmf.set_ylabel(\"Survival Rate\")\n",
    "\n",
    "ax_kmf1"
   ]
  },
  {
   "cell_type": "code",
   "execution_count": 29,
   "id": "6e129c78",
   "metadata": {
    "scrolled": true
   },
   "outputs": [
    {
     "data": {
      "text/plain": [
       "<AxesSubplot:xlabel='Time(Months)', ylabel='Survival Rate'>"
      ]
     },
     "execution_count": 29,
     "metadata": {},
     "output_type": "execute_result"
    },
    {
     "data": {
      "image/png": "[encoded data removed]",
      "text/plain": [
       "<Figure size 432x288 with 1 Axes>"
      ]
     },
     "metadata": {
      "needs_background": "light"
     },
     "output_type": "display_data"
    }
   ],
   "source": [
    "kmf = KaplanMeierFitter()\n",
    "kmf.fit(gender1['time'], gender1['event'], label = 'Men')\n",
    "ax_kmf = kmf.plot(show_censors= True)\n",
    "kmf.fit(gender2['time'], gender2['event'], label = 'Women')\n",
    "ax_kmf2 = kmf.plot(ax = ax_kmf, show_censors = True)\n",
    "\n",
    "ax_kmf.set_xlabel(\"Time(Months)\")\n",
    "ax_kmf.set_ylabel(\"Survival Rate\")\n",
    "\n",
    "ax_kmf2"
   ]
  },
  {
   "cell_type": "markdown",
   "id": "b2112f48",
   "metadata": {},
   "source": [
    "### 3. Cox_Regression: Cox Proportional Hazard Ratio Model\n",
    "- 참고: 공식문서 ('https://lifelines.readthedocs.io/en/latest/Survival%20Regression.html#prediction')\n",
    "- 생존율에 영향을 미치는 위험인자를 분석\n",
    "- The exp(coefficients)의 역수: Hazard Ratio\n",
    " - p-value가 유의 수준 0.05 보다 작을 때 비교 변수보다 해당 변수가 이벤트 발생 확률이 높아진다.\n",
    " - ex. treatment p-value: 0.01, treatment1보다 "
   ]
  },
  {
   "cell_type": "code",
   "execution_count": 31,
   "id": "bfebd190",
   "metadata": {},
   "outputs": [],
   "source": [
    "from lifelines import CoxPHFitter"
   ]
  },
  {
   "cell_type": "code",
   "execution_count": 32,
   "id": "025732b1",
   "metadata": {},
   "outputs": [
    {
     "data": {
      "text/html": [
       "<div>\n",
       "<style scoped>\n",
       "    .dataframe tbody tr th:only-of-type {\n",
       "        vertical-align: middle;\n",
       "    }\n",
       "\n",
       "    .dataframe tbody tr th {\n",
       "        vertical-align: top;\n",
       "    }\n",
       "\n",
       "    .dataframe thead th {\n",
       "        text-align: right;\n",
       "    }\n",
       "</style>\n",
       "<table border=\"1\" class=\"dataframe\">\n",
       "  <thead>\n",
       "    <tr style=\"text-align: right;\">\n",
       "      <th></th>\n",
       "      <th>time</th>\n",
       "      <th>treatment</th>\n",
       "      <th>gender</th>\n",
       "      <th>event</th>\n",
       "    </tr>\n",
       "  </thead>\n",
       "  <tbody>\n",
       "    <tr>\n",
       "      <th>0</th>\n",
       "      <td>7</td>\n",
       "      <td>1</td>\n",
       "      <td>1</td>\n",
       "      <td>True</td>\n",
       "    </tr>\n",
       "    <tr>\n",
       "      <th>1</th>\n",
       "      <td>5</td>\n",
       "      <td>1</td>\n",
       "      <td>2</td>\n",
       "      <td>False</td>\n",
       "    </tr>\n",
       "    <tr>\n",
       "      <th>2</th>\n",
       "      <td>3</td>\n",
       "      <td>1</td>\n",
       "      <td>1</td>\n",
       "      <td>True</td>\n",
       "    </tr>\n",
       "    <tr>\n",
       "      <th>3</th>\n",
       "      <td>50</td>\n",
       "      <td>2</td>\n",
       "      <td>1</td>\n",
       "      <td>False</td>\n",
       "    </tr>\n",
       "    <tr>\n",
       "      <th>4</th>\n",
       "      <td>38</td>\n",
       "      <td>2</td>\n",
       "      <td>2</td>\n",
       "      <td>False</td>\n",
       "    </tr>\n",
       "    <tr>\n",
       "      <th>5</th>\n",
       "      <td>17</td>\n",
       "      <td>2</td>\n",
       "      <td>1</td>\n",
       "      <td>False</td>\n",
       "    </tr>\n",
       "    <tr>\n",
       "      <th>6</th>\n",
       "      <td>7</td>\n",
       "      <td>1</td>\n",
       "      <td>2</td>\n",
       "      <td>True</td>\n",
       "    </tr>\n",
       "    <tr>\n",
       "      <th>7</th>\n",
       "      <td>2</td>\n",
       "      <td>1</td>\n",
       "      <td>2</td>\n",
       "      <td>True</td>\n",
       "    </tr>\n",
       "    <tr>\n",
       "      <th>8</th>\n",
       "      <td>4</td>\n",
       "      <td>1</td>\n",
       "      <td>1</td>\n",
       "      <td>False</td>\n",
       "    </tr>\n",
       "    <tr>\n",
       "      <th>9</th>\n",
       "      <td>6</td>\n",
       "      <td>1</td>\n",
       "      <td>2</td>\n",
       "      <td>True</td>\n",
       "    </tr>\n",
       "  </tbody>\n",
       "</table>\n",
       "</div>"
      ],
      "text/plain": [
       "   time  treatment  gender  event\n",
       "0     7          1       1   True\n",
       "1     5          1       2  False\n",
       "2     3          1       1   True\n",
       "3    50          2       1  False\n",
       "4    38          2       2  False\n",
       "5    17          2       1  False\n",
       "6     7          1       2   True\n",
       "7     2          1       2   True\n",
       "8     4          1       1  False\n",
       "9     6          1       2   True"
      ]
     },
     "execution_count": 32,
     "metadata": {},
     "output_type": "execute_result"
    }
   ],
   "source": [
    "data.head(10)"
   ]
  },
  {
   "cell_type": "code",
   "execution_count": 34,
   "id": "39bb4845",
   "metadata": {},
   "outputs": [
    {
     "data": {
      "text/plain": [
       "<lifelines.CoxPHFitter: fitted with 17 total observations, 7 right-censored observations>"
      ]
     },
     "execution_count": 34,
     "metadata": {},
     "output_type": "execute_result"
    }
   ],
   "source": [
    "cph = CoxPHFitter()\n",
    "cph.fit(data, duration_col='time', event_col='event', formula='treatment+gender')"
   ]
  },
  {
   "cell_type": "code",
   "execution_count": 36,
   "id": "583c69df",
   "metadata": {},
   "outputs": [
    {
     "data": {
      "text/html": [
       "<div>\n",
       "<style scoped>\n",
       "    .dataframe tbody tr th:only-of-type {\n",
       "        vertical-align: middle;\n",
       "    }\n",
       "\n",
       "    .dataframe tbody tr th {\n",
       "        vertical-align: top;\n",
       "    }\n",
       "\n",
       "    .dataframe thead th {\n",
       "        text-align: right;\n",
       "    }\n",
       "</style>\n",
       "<table border=\"1\" class=\"dataframe\">\n",
       "  <tbody>\n",
       "    <tr>\n",
       "      <th>model</th>\n",
       "      <td>lifelines.CoxPHFitter</td>\n",
       "    </tr>\n",
       "    <tr>\n",
       "      <th>duration col</th>\n",
       "      <td>'time'</td>\n",
       "    </tr>\n",
       "    <tr>\n",
       "      <th>event col</th>\n",
       "      <td>'event'</td>\n",
       "    </tr>\n",
       "    <tr>\n",
       "      <th>baseline estimation</th>\n",
       "      <td>breslow</td>\n",
       "    </tr>\n",
       "    <tr>\n",
       "      <th>number of observations</th>\n",
       "      <td>17</td>\n",
       "    </tr>\n",
       "    <tr>\n",
       "      <th>number of events observed</th>\n",
       "      <td>10</td>\n",
       "    </tr>\n",
       "    <tr>\n",
       "      <th>partial log-likelihood</th>\n",
       "      <td>-17.65</td>\n",
       "    </tr>\n",
       "    <tr>\n",
       "      <th>time fit was run</th>\n",
       "      <td>2022-04-27 06:52:30 UTC</td>\n",
       "    </tr>\n",
       "  </tbody>\n",
       "</table>\n",
       "</div><table border=\"1\" class=\"dataframe\">\n",
       "  <thead>\n",
       "    <tr style=\"text-align: right;\">\n",
       "      <th style=\"min-width: 12px;\"></th>\n",
       "      <th style=\"min-width: 12px;\">coef</th>\n",
       "      <th style=\"min-width: 12px;\">exp(coef)</th>\n",
       "      <th style=\"min-width: 12px;\">se(coef)</th>\n",
       "      <th style=\"min-width: 12px;\">coef lower 95%</th>\n",
       "      <th style=\"min-width: 12px;\">coef upper 95%</th>\n",
       "      <th style=\"min-width: 12px;\">exp(coef) lower 95%</th>\n",
       "      <th style=\"min-width: 12px;\">exp(coef) upper 95%</th>\n",
       "      <th style=\"min-width: 12px;\">cmp to</th>\n",
       "      <th style=\"min-width: 12px;\">z</th>\n",
       "      <th style=\"min-width: 12px;\">p</th>\n",
       "      <th style=\"min-width: 12px;\">-log2(p)</th>\n",
       "    </tr>\n",
       "  </thead>\n",
       "  <tbody>\n",
       "    <tr>\n",
       "      <th>gender</th>\n",
       "      <td>1.31</td>\n",
       "      <td>3.69</td>\n",
       "      <td>0.77</td>\n",
       "      <td>-0.21</td>\n",
       "      <td>2.82</td>\n",
       "      <td>0.81</td>\n",
       "      <td>16.73</td>\n",
       "      <td>0.00</td>\n",
       "      <td>1.69</td>\n",
       "      <td>0.09</td>\n",
       "      <td>3.47</td>\n",
       "    </tr>\n",
       "    <tr>\n",
       "      <th>treatment</th>\n",
       "      <td>-2.64</td>\n",
       "      <td>0.07</td>\n",
       "      <td>0.98</td>\n",
       "      <td>-4.57</td>\n",
       "      <td>-0.72</td>\n",
       "      <td>0.01</td>\n",
       "      <td>0.49</td>\n",
       "      <td>0.00</td>\n",
       "      <td>-2.69</td>\n",
       "      <td>0.01</td>\n",
       "      <td>7.12</td>\n",
       "    </tr>\n",
       "  </tbody>\n",
       "</table><br><div>\n",
       "<style scoped>\n",
       "    .dataframe tbody tr th:only-of-type {\n",
       "        vertical-align: middle;\n",
       "    }\n",
       "\n",
       "    .dataframe tbody tr th {\n",
       "        vertical-align: top;\n",
       "    }\n",
       "\n",
       "    .dataframe thead th {\n",
       "        text-align: right;\n",
       "    }\n",
       "</style>\n",
       "<table border=\"1\" class=\"dataframe\">\n",
       "  <tbody>\n",
       "    <tr>\n",
       "      <th>Concordance</th>\n",
       "      <td>0.79</td>\n",
       "    </tr>\n",
       "    <tr>\n",
       "      <th>Partial AIC</th>\n",
       "      <td>39.30</td>\n",
       "    </tr>\n",
       "    <tr>\n",
       "      <th>log-likelihood ratio test</th>\n",
       "      <td>9.95 on 2 df</td>\n",
       "    </tr>\n",
       "    <tr>\n",
       "      <th>-log2(p) of ll-ratio test</th>\n",
       "      <td>7.18</td>\n",
       "    </tr>\n",
       "  </tbody>\n",
       "</table>\n",
       "</div>"
      ],
      "text/latex": [
       "\\begin{tabular}{lrrrrrrrrrrr}\n",
       "\\toprule\n",
       "{} &  coef &  exp(coef) &  se(coef) &  coef lower 95\\% &  coef upper 95\\% &  exp(coef) lower 95\\% &  exp(coef) upper 95\\% &  cmp to &     z &    p &  -log2(p) \\\\\n",
       "covariate &       &            &           &                 &                 &                      &                      &         &       &      &           \\\\\n",
       "\\midrule\n",
       "gender    &  1.31 &       3.69 &      0.77 &           -0.21 &            2.82 &                 0.81 &                16.73 &    0.00 &  1.69 & 0.09 &      3.47 \\\\\n",
       "treatment & -2.64 &       0.07 &      0.98 &           -4.57 &           -0.72 &                 0.01 &                 0.49 &    0.00 & -2.69 & 0.01 &      7.12 \\\\\n",
       "\\bottomrule\n",
       "\\end{tabular}\n"
      ],
      "text/plain": [
       "<lifelines.CoxPHFitter: fitted with 17 total observations, 7 right-censored observations>\n",
       "             duration col = 'time'\n",
       "                event col = 'event'\n",
       "      baseline estimation = breslow\n",
       "   number of observations = 17\n",
       "number of events observed = 10\n",
       "   partial log-likelihood = -17.65\n",
       "         time fit was run = 2022-04-27 06:52:30 UTC\n",
       "\n",
       "---\n",
       "            coef  exp(coef)   se(coef)   coef lower 95%   coef upper 95%  exp(coef) lower 95%  exp(coef) upper 95%\n",
       "covariate                                                                                                         \n",
       "gender      1.31       3.69       0.77            -0.21             2.82                 0.81                16.73\n",
       "treatment  -2.64       0.07       0.98            -4.57            -0.72                 0.01                 0.49\n",
       "\n",
       "            cmp to     z    p   -log2(p)\n",
       "covariate                               \n",
       "gender        0.00  1.69 0.09       3.47\n",
       "treatment     0.00 -2.69 0.01       7.12\n",
       "---\n",
       "Concordance = 0.79\n",
       "Partial AIC = 39.30\n",
       "log-likelihood ratio test = 9.95 on 2 df\n",
       "-log2(p) of ll-ratio test = 7.18"
      ]
     },
     "metadata": {},
     "output_type": "display_data"
    }
   ],
   "source": [
    "cph.print_summary()"
   ]
  },
  {
   "cell_type": "code",
   "execution_count": null,
   "id": "79e32786",
   "metadata": {},
   "outputs": [],
   "source": []
  }
 ],
 "metadata": {
  "kernelspec": {
   "display_name": "Python 3 (ipykernel)",
   "language": "python",
   "name": "python3"
  },
  "language_info": {
   "codemirror_mode": {
    "name": "ipython",
    "version": 3
   },
   "file_extension": ".py",
   "mimetype": "text/x-python",
   "name": "python",
   "nbconvert_exporter": "python",
   "pygments_lexer": "ipython3",
   "version": "3.9.7"
  }
 },
 "nbformat": 4,
 "nbformat_minor": 5
}
