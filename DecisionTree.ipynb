{
 "cells": [
  {
   "cell_type": "markdown",
   "id": "d55862b7",
   "metadata": {},
   "source": [
    "### 의사결정나무 모델\n",
    "1) 분류나무(Classification Tree)\n",
    " - 종속변수가 `명목형`인 경우 사용하는 의사결정 나무 모델\n",
    " - 각 노드 분류 알고리즘은 이진 분류시 **지니지수 기반의 CART** 사용\n",
    " - 과적합 방지 및 모델 단순화를 위해 Depth, Inpurity 등 관련 설정 활용<br>\n",
    "\n",
    "2) 회귀나무(Regression Tree)\n",
    " - 종속변수가 `연속형`인 경우 사용하는 의사결정 나무 모델\n",
    " - 각 노드 분류 **평균과 표준편차** 사용\n",
    " - 과적합 방지 및 모델 단순화를 위해 Depth, Inpurity 등 관련 설정 활용<br>"
   ]
  },
  {
   "cell_type": "markdown",
   "id": "84883fef",
   "metadata": {},
   "source": [
    "### 사용 함수: sklearn - DecisionTreeClassifier(), DecisionTreeRegressor()"
   ]
  },
  {
   "cell_type": "code",
   "execution_count": 24,
   "id": "0a33c6ac",
   "metadata": {},
   "outputs": [],
   "source": [
    "import pandas as pd\n",
    "from sklearn.tree import DecisionTreeClassifier\n",
    "from sklearn.tree import DecisionTreeRegressor"
   ]
  },
  {
   "cell_type": "code",
   "execution_count": 25,
   "id": "2984aa63",
   "metadata": {},
   "outputs": [
    {
     "data": {
      "text/html": [
       "<div>\n",
       "<style scoped>\n",
       "    .dataframe tbody tr th:only-of-type {\n",
       "        vertical-align: middle;\n",
       "    }\n",
       "\n",
       "    .dataframe tbody tr th {\n",
       "        vertical-align: top;\n",
       "    }\n",
       "\n",
       "    .dataframe thead th {\n",
       "        text-align: right;\n",
       "    }\n",
       "</style>\n",
       "<table border=\"1\" class=\"dataframe\">\n",
       "  <thead>\n",
       "    <tr style=\"text-align: right;\">\n",
       "      <th></th>\n",
       "      <th>Sepal.Length</th>\n",
       "      <th>Sepal.Width</th>\n",
       "      <th>Petal.Length</th>\n",
       "      <th>Petal.Width</th>\n",
       "      <th>Species</th>\n",
       "    </tr>\n",
       "  </thead>\n",
       "  <tbody>\n",
       "    <tr>\n",
       "      <th>0</th>\n",
       "      <td>5.1</td>\n",
       "      <td>3.5</td>\n",
       "      <td>1.4</td>\n",
       "      <td>0.2</td>\n",
       "      <td>setosa</td>\n",
       "    </tr>\n",
       "    <tr>\n",
       "      <th>1</th>\n",
       "      <td>4.9</td>\n",
       "      <td>3.0</td>\n",
       "      <td>1.4</td>\n",
       "      <td>0.2</td>\n",
       "      <td>setosa</td>\n",
       "    </tr>\n",
       "  </tbody>\n",
       "</table>\n",
       "</div>"
      ],
      "text/plain": [
       "   Sepal.Length  Sepal.Width  Petal.Length  Petal.Width Species\n",
       "0           5.1          3.5           1.4          0.2  setosa\n",
       "1           4.9          3.0           1.4          0.2  setosa"
      ]
     },
     "execution_count": 25,
     "metadata": {},
     "output_type": "execute_result"
    }
   ],
   "source": [
    "df = pd.read_csv(\"C:/Users/silan/Python/Data/iris.csv\")\n",
    "df.head(2)"
   ]
  },
  {
   "cell_type": "code",
   "execution_count": 26,
   "id": "6e665f7c",
   "metadata": {},
   "outputs": [],
   "source": [
    "df['is_setosa'] = (df['Species'] == 'setosa') + 0"
   ]
  },
  {
   "cell_type": "code",
   "execution_count": 27,
   "id": "e03024ee",
   "metadata": {},
   "outputs": [
    {
     "data": {
      "text/plain": [
       "DecisionTreeClassifier(random_state=123)"
      ]
     },
     "execution_count": 27,
     "metadata": {},
     "output_type": "execute_result"
    }
   ],
   "source": [
    "model_c = DecisionTreeClassifier(random_state = 123)\n",
    "model_c.fit(X = df.iloc[:, :4], y = df['is_setosa'])\n",
    "model_c"
   ]
  },
  {
   "cell_type": "code",
   "execution_count": 28,
   "id": "61dfd2af",
   "metadata": {},
   "outputs": [
    {
     "data": {
      "text/plain": [
       "array([1, 1, 1, 1])"
      ]
     },
     "execution_count": 28,
     "metadata": {},
     "output_type": "execute_result"
    }
   ],
   "source": [
    "pred_c = model_c.predict(df.iloc[:, :4])\n",
    "pred_c[:4]"
   ]
  },
  {
   "cell_type": "code",
   "execution_count": 29,
   "id": "4aadc841",
   "metadata": {},
   "outputs": [
    {
     "data": {
      "text/plain": [
       "array([0.25, 0.2 , 0.2 , 0.2 ])"
      ]
     },
     "execution_count": 29,
     "metadata": {},
     "output_type": "execute_result"
    }
   ],
   "source": [
    "model_r = DecisionTreeRegressor(random_state = 123)\n",
    "model_r.fit(X = df.iloc[:, :3], y = df[\"Petal.Width\"])\n",
    "pred_r = model_r.predict(df.iloc[:, :3])\n",
    "pred_r[:4]"
   ]
  }
 ],
 "metadata": {
  "kernelspec": {
   "display_name": "Python 3 (ipykernel)",
   "language": "python",
   "name": "python3"
  },
  "language_info": {
   "codemirror_mode": {
    "name": "ipython",
    "version": 3
   },
   "file_extension": ".py",
   "mimetype": "text/x-python",
   "name": "python",
   "nbconvert_exporter": "python",
   "pygments_lexer": "ipython3",
   "version": "3.9.7"
  }
 },
 "nbformat": 4,
 "nbformat_minor": 5
}
