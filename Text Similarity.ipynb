{
 "cells": [
  {
   "cell_type": "markdown",
   "id": "4b880196",
   "metadata": {},
   "source": [
    "### 🔎 텍스트 유사도 (Text Similarity)\n",
    "<br>\n",
    "- 텍스트가 얼마나 유사한지 판단하는 것<br>\n",
    "<br>\n",
    "- 유사도 측정방법<br>\n",
    "1) 단어 개수 빈도 체크<br>\n",
    "2) 형태소로 나눠 형태소 비교<br>\n",
    "3) 자소 단위로 나눠 단어를 비교하는 방법<br>\n",
    "<br>\n",
    "#### Deep Learning  기반 텍스트 유사도 측정 <br>\n",
    "1) 텍스트를 벡터화<br>\n",
    "2) 벡터화된 각 문장 간의 유사도를 측정하는 방식으로 진행 됨<br>\n",
    "<br>\n",
    "#### 자주 쓰이는 유사도 4가지 측정방법<br>\n",
    "1) `자카드` 유사도<br>\n",
    "2) `유클리디언` 유사도<br>\n",
    "3) `맨해튼` 유사도<br>\n",
    "4) `코사인` 유사도<br>"
   ]
  },
  {
   "cell_type": "markdown",
   "id": "5e4d14fd",
   "metadata": {},
   "source": [
    "#### TF-IDF (Team Frequency - Inverse Document Frequency)"
   ]
  },
  {
   "cell_type": "code",
   "execution_count": 7,
   "id": "70bf6b09",
   "metadata": {},
   "outputs": [
    {
     "name": "stdout",
     "output_type": "stream",
     "text": [
      "{'강한': 1.4054651081081644, '것으로': 1.4054651081081644, '기상청은': 1.4054651081081644, '많은': 1.0, '못했다': 1.4054651081081644, '바람과': 1.4054651081081644, '보입니다': 1.4054651081081644, '비가': 1.0, '사람들은': 1.4054651081081644, '사람들이': 1.4054651081081644, '아무도': 1.4054651081081644, '양의': 1.4054651081081644, '예보했다': 1.4054651081081644, '예상하지': 1.4054651081081644, '오늘': 1.4054651081081644, '오늘도': 1.4054651081081644, '온다고': 1.4054651081081644, '올지': 1.4054651081081644, '와서': 1.4054651081081644, '외출을': 1.4054651081081644, '집에서': 1.4054651081081644, '하고': 1.4054651081081644, '휴일인': 1.4054651081081644}\n"
     ]
    },
    {
     "name": "stderr",
     "output_type": "stream",
     "text": [
      "C:\\Anaconda\\lib\\site-packages\\sklearn\\utils\\deprecation.py:87: FutureWarning: Function get_feature_names is deprecated; get_feature_names is deprecated in 1.0 and will be removed in 1.2. Please use get_feature_names_out instead.\n",
      "  warnings.warn(msg, category=FutureWarning)\n"
     ]
    }
   ],
   "source": [
    "from sklearn.feature_extraction.text import TfidfVectorizer\n",
    "\n",
    "# 내가 만든 문장\n",
    "\n",
    "sentence =(\"휴일인 오늘도 비가 와서 많은 사람들이 외출을 안 하고 집에서 쉴 것으로 보입니다.\",\n",
    "          \"사람들은 아무도 오늘 비가 올지 예상하지 못했다. 기상청은 강한 바람과 많은 양의 비가 온다고 예보했다.\")\n",
    "\n",
    "tfidf_vectorizer = TfidfVectorizer()\n",
    "tfidf_matrix = tfidf_vectorizer.fit_transform(sentence) #벡터화할 문장 넣어주기\n",
    "\n",
    "idf = tfidf_vectorizer.idf_\n",
    "print(dict(zip(tfidf_vectorizer.get_feature_names(), idf))) # 각 수치에 대한 시각화"
   ]
  },
  {
   "cell_type": "markdown",
   "id": "657c787b",
   "metadata": {},
   "source": [
    "#### TF-IDF 벡터화한 값은  자카드 유사도를 제외한 유사도 측정에 사용됨\n",
    "\n",
    "#### 자카드 유사도는 벡터화 없이 바로 유사도 측정이 가능!\n",
    "\n",
    "#### 1. `자카드 유사도`: 2개 문장을 각각 단어의 집합으로 만든 뒤 2개 집합을 통해 유사도를 측정하는 방식\n",
    "- 교집합의 단어를 합집합 (전체 단어의 수)로 나누면 됨\n",
    "- 공통 원소의 개수에 따라 0 ~ 1 값이 나오고, 1에 가까울 수록 유사도가 높다\n"
   ]
  },
  {
   "cell_type": "markdown",
   "id": "0e618100",
   "metadata": {},
   "source": [
    "A = {휴일,인,오늘,도,비,가,와서,많,은,사람,들,이,외출,을,안,하고,집,에서,쉴,것,으로,보입니다}<br>\n",
    "B = {사람,들,은,아무도,오늘,비,가,올,지,예상,하,지,못했다,기상청,은,강한,바람,과,많,은,양,의,비,가,온다고,예보,했다}\n",
    "\n",
    "자카드 유사도 = 8 / 35 = 0.228"
   ]
  },
  {
   "attachments": {
    "image.png": {
     "image/png": "[encoded data removed]"
    }
   },
   "cell_type": "markdown",
   "id": "eede2f57",
   "metadata": {},
   "source": [
    "#### 2. `코사인 유사도`:  사이킷런에서 유사도 측정함수 `cosine_similarity` import 해서 구할 수 있다.\n",
    "\n",
    "- 내적공간의 두 벡터간 각도의 코사인값을 이용하여 측정된 벡터간의 유사한 정도를 의미한다. <br>\n",
    "- 각도가 0°일 때의 코사인값은 1이며, 다른 모든 각도의 코사인값은 1보다 작다.<br>\n",
    "- 공식: \n",
    "![image.png](attachment:image.png)"
   ]
  },
  {
   "cell_type": "code",
   "execution_count": 8,
   "id": "ccf2b569",
   "metadata": {},
   "outputs": [
    {
     "data": {
      "text/plain": [
       "array([[0.12590967]])"
      ]
     },
     "execution_count": 8,
     "metadata": {},
     "output_type": "execute_result"
    }
   ],
   "source": [
    "from sklearn.metrics.pairwise import cosine_similarity\n",
    "\n",
    "cosine_similarity(tfidf_matrix[0:1], tfidf_matrix[1:2]) # 첫번째 문장과 두번째 문장 비교"
   ]
  },
  {
   "cell_type": "code",
   "execution_count": 15,
   "id": "e50c43d6",
   "metadata": {},
   "outputs": [
    {
     "data": {
      "text/plain": [
       "0.13"
      ]
     },
     "execution_count": 15,
     "metadata": {},
     "output_type": "execute_result"
    }
   ],
   "source": [
    "round(result[0][0], 2)"
   ]
  },
  {
   "cell_type": "code",
   "execution_count": 32,
   "id": "cfae3554",
   "metadata": {},
   "outputs": [
    {
     "name": "stdout",
     "output_type": "stream",
     "text": [
      "코사인 유사도 값은 0.13 이며,\n",
      "유사 정도는 13.0 점 입니다.\n"
     ]
    }
   ],
   "source": [
    "result = cosine_similarity(tfidf_matrix[0:1], tfidf_matrix[1:2])\n",
    "print(f'코사인 유사도 값은 {round(result[0][0], 2)} 이며,')\n",
    "print(f'유사 정도는 {round(result[0][0],2)*100} 점 입니다.')"
   ]
  },
  {
   "attachments": {
    "image.png": {
     "image/png": "[encoded data removed]"
    }
   },
   "cell_type": "markdown",
   "id": "b01de399",
   "metadata": {},
   "source": [
    "#### 3. `유클리디언 유사도`:  사이킷런에서 `euclidean_distances` import 해서 구할 수 있다.\n",
    " - `L2 거리`라고도 함<br>\n",
    " <br>\n",
    " - `위키피디아 설명 참조`\n",
    " - 직교 좌표계로 나타낸 점 p = (p1, p2,..., pn)와 q = (q1, q2,..., qn)가 있을 때, \n",
    " - 두 유클리드 노름을 이용하여 두 점 p, q의 거리를 계산하면 다음과 같다.\n",
    " ![image.png](attachment:image.png)\n",
    "\n",
    "\n",
    "<br>\n",
    "<br>\n",
    "- 단순한 2개 점 사이의 거리를 뜻하기 때문에 양수로 제한이 없음<br>\n",
    "- 앞의 유사도와 비교하기 위해 일반화 (L1_Normalize) 진행"
   ]
  },
  {
   "cell_type": "code",
   "execution_count": 17,
   "id": "2496a894",
   "metadata": {},
   "outputs": [
    {
     "data": {
      "text/plain": [
       "array([[1.32218783]])"
      ]
     },
     "execution_count": 17,
     "metadata": {},
     "output_type": "execute_result"
    }
   ],
   "source": [
    "from sklearn.metrics.pairwise import euclidean_distances\n",
    "\n",
    "euclidean_distances(tfidf_matrix[0:1], tfidf_matrix[1:2]) # 첫번째 문장과 두번째 문장 비교"
   ]
  },
  {
   "cell_type": "code",
   "execution_count": 20,
   "id": "0d62287a",
   "metadata": {},
   "outputs": [
    {
     "name": "stdout",
     "output_type": "stream",
     "text": [
      "유클리디언 유사도 값은 1.32 이며, 유사도는 132.0 점 입니다.\n"
     ]
    }
   ],
   "source": [
    "result2 = euclidean_distances(tfidf_matrix[0:1], tfidf_matrix[1:2])\n",
    "print(f'유클리디언 유사도 값은 {round(result2[0][0], 2)} 이며, 유사도는 {round(result2[0][0],2)*100} 점 입니다.')"
   ]
  },
  {
   "cell_type": "code",
   "execution_count": 26,
   "id": "799362e8",
   "metadata": {},
   "outputs": [],
   "source": [
    "import numpy as np\n",
    "\n",
    "def l1_normalize(v):\n",
    "    norm = np.sum(v)\n",
    "    return v / norm\n",
    "\n",
    "\n",
    "tfidf_norm_l1 = l1_normalize(tfidf_matrix)\n",
    "e_d = euclidean_distances(tfidf_norm_l1[0:1], tfidf_norm_l1[1:2])"
   ]
  },
  {
   "attachments": {
    "image-2.png": {
     "image/png": "[encoded data removed]"
    },
    "image.png": {
     "image/png": "[encoded data removed]"
    }
   },
   "cell_type": "markdown",
   "id": "8d254680",
   "metadata": {},
   "source": [
    "####  4. `맨해튼 유사도`:  사이킷런에서 `manhattan_distances` import 해서 구할 수 있다.\n",
    " - `L1 거리`라고도 함<br>\n",
    " <br>\n",
    " - `위키피디아 설명 참조`: https://ko.wikipedia.org/wiki/%EB%A7%A8%ED%95%B4%ED%8A%BC_%EA%B1%B0%EB%A6%AC\n",
    " - ![image-2.png](attachment:image-2.png) \n",
    "![image.png](attachment:image.png)\n",
    "\n",
    "\n",
    "<br>\n",
    "<br>\n",
    "- 유클리디언 유사도와 마찬가지로 단순한 2개 점 사이의 거리를 뜻하기 때문에 양수로 제한이 없음<br>\n",
    "- 앞의 유사도와 비교하기 위해 일반화 (L1_Normalize) 진행"
   ]
  },
  {
   "cell_type": "code",
   "execution_count": 27,
   "id": "8ab78b80",
   "metadata": {},
   "outputs": [],
   "source": [
    "from sklearn.metrics.pairwise import manhattan_distances\n",
    "\n",
    "m_d = manhattan_distances(tfidf_norm_l1[0:1], tfidf_norm_l1[1:2])"
   ]
  },
  {
   "cell_type": "markdown",
   "id": "a9f0d1c8",
   "metadata": {},
   "source": [
    "### 문장 유사도 측정 결과"
   ]
  },
  {
   "cell_type": "code",
   "execution_count": 31,
   "id": "498b17dd",
   "metadata": {},
   "outputs": [
    {
     "name": "stdout",
     "output_type": "stream",
     "text": [
      "자카드 유사도 값: 0.228\n",
      "코사인 유사도 값: 0.13\n",
      "유클리디언 유사도 값: 0.19\n",
      "맨해튼 유사도 값: 0.88\n"
     ]
    }
   ],
   "source": [
    "print('자카드 유사도 값:', 0.228)\n",
    "print(f'코사인 유사도 값: {round(result[0][0], 2)}')\n",
    "print(f'유클리디언 유사도 값: {np.round(e_d, 2)[0][0]}')\n",
    "print(f'맨해튼 유사도 값: {np.round(m_d, 2)[0][0]}')"
   ]
  },
  {
   "cell_type": "markdown",
   "id": "8cf01e41",
   "metadata": {},
   "source": [
    "#### => 측정 방법에 따라 크게 유사도가 달라질 수 있으므로 의도하는 방향에 맞는 측정법 고르는 것이 중요"
   ]
  }
 ],
 "metadata": {
  "kernelspec": {
   "display_name": "Python 3 (ipykernel)",
   "language": "python",
   "name": "python3"
  },
  "language_info": {
   "codemirror_mode": {
    "name": "ipython",
    "version": 3
   },
   "file_extension": ".py",
   "mimetype": "text/x-python",
   "name": "python",
   "nbconvert_exporter": "python",
   "pygments_lexer": "ipython3",
   "version": "3.9.12"
  }
 },
 "nbformat": 4,
 "nbformat_minor": 5
}
