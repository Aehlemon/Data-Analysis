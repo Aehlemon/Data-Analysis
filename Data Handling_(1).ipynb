{
 "cells": [
  {
   "cell_type": "markdown",
   "id": "a9ccbdf0",
   "metadata": {},
   "source": [
    "### 1. Python으로 날짜형 데이터 다루기"
   ]
  },
  {
   "cell_type": "markdown",
   "id": "f8d147df",
   "metadata": {},
   "source": [
    "1) `datetime` 라이브러리 import<br>\n",
    "2) `datetime.date(연도, 월, 일)`; 숫자를 매개변수로 넣기, 날짜 객체로 저장<br>\n",
    "3) 2번을 통해 2개 날짜 사이의 차이를 구할 수 있다.<br>"
   ]
  },
  {
   "cell_type": "code",
   "execution_count": 2,
   "id": "9216324c",
   "metadata": {},
   "outputs": [],
   "source": [
    "import datetime\n",
    "\n",
    "date1 = datetime.date(2022, 10, 24)\n",
    "date2 = datetime.date(2022, 12, 16)"
   ]
  },
  {
   "cell_type": "code",
   "execution_count": 3,
   "id": "82e78e41",
   "metadata": {},
   "outputs": [
    {
     "data": {
      "text/plain": [
       "datetime.timedelta(days=53)"
      ]
     },
     "execution_count": 3,
     "metadata": {},
     "output_type": "execute_result"
    }
   ],
   "source": [
    "diff = date2 - date1\n",
    "diff"
   ]
  },
  {
   "cell_type": "code",
   "execution_count": 9,
   "id": "25029bbf",
   "metadata": {},
   "outputs": [
    {
     "data": {
      "text/plain": [
       "14"
      ]
     },
     "execution_count": 9,
     "metadata": {},
     "output_type": "execute_result"
    }
   ],
   "source": [
    "# 시, 분, 초 단위까지 포함된 날짜 객체를 생성하려면\n",
    "\n",
    "day3 = datetime.datetime(2020, 12, 17, 14, 30, 10)\n",
    "day3.hour"
   ]
  },
  {
   "cell_type": "code",
   "execution_count": 10,
   "id": "a65b1d2a",
   "metadata": {},
   "outputs": [
    {
     "data": {
      "text/plain": [
       "10"
      ]
     },
     "execution_count": 10,
     "metadata": {},
     "output_type": "execute_result"
    }
   ],
   "source": [
    "day3.second"
   ]
  },
  {
   "cell_type": "code",
   "execution_count": 11,
   "id": "448adb78",
   "metadata": {},
   "outputs": [
    {
     "data": {
      "text/plain": [
       "30"
      ]
     },
     "execution_count": 11,
     "metadata": {},
     "output_type": "execute_result"
    }
   ],
   "source": [
    "day3.minute"
   ]
  },
  {
   "cell_type": "markdown",
   "id": "aec3207c",
   "metadata": {},
   "source": [
    "#### combine() 함수로 datetime.date() 객체와 datetime.time  객체를 합쳐 일시 데이터를 만들 수 있음"
   ]
  },
  {
   "cell_type": "code",
   "execution_count": 12,
   "id": "180ecd53",
   "metadata": {},
   "outputs": [
    {
     "data": {
      "text/plain": [
       "datetime.datetime(2022, 11, 5, 15, 49, 51)"
      ]
     },
     "execution_count": 12,
     "metadata": {},
     "output_type": "execute_result"
    }
   ],
   "source": [
    "day = datetime.date(2022, 11, 5)\n",
    "time = datetime.time(15, 49, 51)\n",
    "\n",
    "dt = datetime.datetime.combine(day, time)\n",
    "dt"
   ]
  },
  {
   "cell_type": "markdown",
   "id": "3963ec91",
   "metadata": {},
   "source": [
    "#### weekday() 함수로 요일 구하기"
   ]
  },
  {
   "cell_type": "code",
   "execution_count": 13,
   "id": "2808a611",
   "metadata": {},
   "outputs": [
    {
     "data": {
      "text/plain": [
       "5"
      ]
     },
     "execution_count": 13,
     "metadata": {},
     "output_type": "execute_result"
    }
   ],
   "source": [
    "dt.weekday()"
   ]
  },
  {
   "cell_type": "markdown",
   "id": "92681a71",
   "metadata": {},
   "source": [
    "#### datetime.datetime.today() 오늘날짜 구하기"
   ]
  },
  {
   "cell_type": "code",
   "execution_count": 14,
   "id": "7803aee7",
   "metadata": {},
   "outputs": [
    {
     "data": {
      "text/plain": [
       "datetime.datetime(2022, 10, 31, 23, 24, 54, 905574)"
      ]
     },
     "execution_count": 14,
     "metadata": {},
     "output_type": "execute_result"
    }
   ],
   "source": [
    "today = datetime.datetime.today()\n",
    "today"
   ]
  },
  {
   "cell_type": "code",
   "execution_count": 15,
   "id": "fbb3dc72",
   "metadata": {},
   "outputs": [
    {
     "data": {
      "text/plain": [
       "datetime.date(2022, 10, 31)"
      ]
     },
     "execution_count": 15,
     "metadata": {},
     "output_type": "execute_result"
    }
   ],
   "source": [
    "today.date()"
   ]
  },
  {
   "cell_type": "code",
   "execution_count": 16,
   "id": "36c988d2",
   "metadata": {},
   "outputs": [
    {
     "data": {
      "text/plain": [
       "datetime.time(23, 24, 54, 905574)"
      ]
     },
     "execution_count": 16,
     "metadata": {},
     "output_type": "execute_result"
    }
   ],
   "source": [
    "today.time()"
   ]
  },
  {
   "cell_type": "code",
   "execution_count": 17,
   "id": "4e552a4a",
   "metadata": {},
   "outputs": [
    {
     "data": {
      "text/plain": [
       "datetime.datetime(2023, 2, 8, 23, 24, 54, 905574)"
      ]
     },
     "execution_count": 17,
     "metadata": {},
     "output_type": "execute_result"
    }
   ],
   "source": [
    "# 오늘부터 100일 뒤??\n",
    "# 날짜 차이를 저장하는 \"datetime.timedelta(days=100)\" 이 필요\n",
    "\n",
    "diff = datetime.timedelta(days=100)\n",
    "today + diff"
   ]
  },
  {
   "cell_type": "code",
   "execution_count": 18,
   "id": "4a37c038",
   "metadata": {},
   "outputs": [
    {
     "data": {
      "text/plain": [
       "datetime.datetime(2022, 7, 23, 23, 24, 54, 905574)"
      ]
     },
     "execution_count": 18,
     "metadata": {},
     "output_type": "execute_result"
    }
   ],
   "source": [
    "# 100일 전??\n",
    "\n",
    "today - diff"
   ]
  },
  {
   "cell_type": "markdown",
   "id": "8590e458",
   "metadata": {},
   "source": [
    "### 2. NamedTuple: 인덱스와 키로 데이터 접근가능한 자료형\n",
    "- tuple: 인덱스를 통해서만 접근 가능"
   ]
  },
  {
   "cell_type": "code",
   "execution_count": 19,
   "id": "74477f1f",
   "metadata": {},
   "outputs": [],
   "source": [
    "data = [\n",
    "    ('홍미희', 23, '01099990001'), \n",
    "    ('김철규', 31, '01099991002'), \n",
    "    ('이장구', 35, '01099994003'),\n",
    "]"
   ]
  },
  {
   "cell_type": "code",
   "execution_count": 20,
   "id": "eda0e236",
   "metadata": {},
   "outputs": [
    {
     "data": {
      "text/plain": [
       "('홍미희', 23, '01099990001')"
      ]
     },
     "execution_count": 20,
     "metadata": {},
     "output_type": "execute_result"
    }
   ],
   "source": [
    "data[0]"
   ]
  },
  {
   "cell_type": "code",
   "execution_count": 21,
   "id": "06317f49",
   "metadata": {},
   "outputs": [
    {
     "data": {
      "text/plain": [
       "('이장구', 35, '01099994003')"
      ]
     },
     "execution_count": 21,
     "metadata": {},
     "output_type": "execute_result"
    }
   ],
   "source": [
    "data[2]"
   ]
  },
  {
   "cell_type": "code",
   "execution_count": 22,
   "id": "62e3a350",
   "metadata": {},
   "outputs": [
    {
     "data": {
      "text/plain": [
       "3"
      ]
     },
     "execution_count": 22,
     "metadata": {},
     "output_type": "execute_result"
    }
   ],
   "source": [
    "len(data)"
   ]
  },
  {
   "cell_type": "markdown",
   "id": "bbbd36a8",
   "metadata": {},
   "source": [
    "#### 각 속성별로 불러오고 싶을 때"
   ]
  },
  {
   "cell_type": "code",
   "execution_count": 28,
   "id": "8ba8daf7",
   "metadata": {},
   "outputs": [
    {
     "data": {
      "text/plain": [
       "[Employee(Name='홍미희', Age=23, Phone_no='01099990001'),\n",
       " Employee(Name='김철규', Age=31, Phone_no='01099991002'),\n",
       " Employee(Name='이장구', Age=35, Phone_no='01099994003')]"
      ]
     },
     "execution_count": 28,
     "metadata": {},
     "output_type": "execute_result"
    }
   ],
   "source": [
    "from collections import namedtuple\n",
    "\n",
    "Employee = namedtuple('Employee','Name, Age, Phone_no')\n",
    "data = [Employee(emp[0], emp[1], emp[2]) for emp in data]\n",
    "data"
   ]
  },
  {
   "cell_type": "code",
   "execution_count": 30,
   "id": "c9b56bdd",
   "metadata": {},
   "outputs": [
    {
     "data": {
      "text/plain": [
       "'김철규'"
      ]
     },
     "execution_count": 30,
     "metadata": {},
     "output_type": "execute_result"
    }
   ],
   "source": [
    "emp = data[1]\n",
    "emp.Name"
   ]
  },
  {
   "cell_type": "code",
   "execution_count": 31,
   "id": "e4c6ad24",
   "metadata": {},
   "outputs": [
    {
     "data": {
      "text/plain": [
       "31"
      ]
     },
     "execution_count": 31,
     "metadata": {},
     "output_type": "execute_result"
    }
   ],
   "source": [
    "emp.Age"
   ]
  },
  {
   "cell_type": "code",
   "execution_count": 32,
   "id": "c83ce0a5",
   "metadata": {},
   "outputs": [
    {
     "data": {
      "text/plain": [
       "{'Name': '김철규', 'Age': 31, 'Phone_no': '01099991002'}"
      ]
     },
     "execution_count": 32,
     "metadata": {},
     "output_type": "execute_result"
    }
   ],
   "source": [
    "# 딕셔너리 타입으로 변환\n",
    "\n",
    "emp._asdict()"
   ]
  },
  {
   "cell_type": "code",
   "execution_count": 35,
   "id": "82bd52c3",
   "metadata": {},
   "outputs": [
    {
     "data": {
      "text/plain": [
       "'01099991002'"
      ]
     },
     "execution_count": 35,
     "metadata": {},
     "output_type": "execute_result"
    }
   ],
   "source": [
    "emp[2] # 인덱스 접근가능"
   ]
  },
  {
   "cell_type": "code",
   "execution_count": 36,
   "id": "2a596c4e",
   "metadata": {},
   "outputs": [
    {
     "data": {
      "text/plain": [
       "'김철규'"
      ]
     },
     "execution_count": 36,
     "metadata": {},
     "output_type": "execute_result"
    }
   ],
   "source": [
    "emp[0]"
   ]
  },
  {
   "cell_type": "markdown",
   "id": "3235531e",
   "metadata": {},
   "source": [
    "#### Namedtuple - immutable 변경할 수 없는 자료형\n",
    "- `._replace`: 새로운 객체를 만들어 반환 (내용을 바꾼게 아님)"
   ]
  },
  {
   "cell_type": "code",
   "execution_count": 38,
   "id": "778dfbd7",
   "metadata": {},
   "outputs": [
    {
     "data": {
      "text/plain": [
       "Employee(Name='박노준', Age=31, Phone_no='01099991002')"
      ]
     },
     "execution_count": 38,
     "metadata": {},
     "output_type": "execute_result"
    }
   ],
   "source": [
    "new_emp = emp._replace(Name=\"박노준\")\n",
    "new_emp"
   ]
  }
 ],
 "metadata": {
  "kernelspec": {
   "display_name": "Python 3 (ipykernel)",
   "language": "python",
   "name": "python3"
  },
  "language_info": {
   "codemirror_mode": {
    "name": "ipython",
    "version": 3
   },
   "file_extension": ".py",
   "mimetype": "text/x-python",
   "name": "python",
   "nbconvert_exporter": "python",
   "pygments_lexer": "ipython3",
   "version": "3.9.12"
  }
 },
 "nbformat": 4,
 "nbformat_minor": 5
}
